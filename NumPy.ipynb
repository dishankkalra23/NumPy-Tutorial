{
  "nbformat": 4,
  "nbformat_minor": 0,
  "metadata": {
    "colab": {
      "name": "NumPy.ipynb",
      "provenance": [],
      "collapsed_sections": [],
      "toc_visible": true,
      "authorship_tag": "ABX9TyNJAv4/919ocwl48Z6b7ZIf",
      "include_colab_link": true
    },
    "kernelspec": {
      "name": "python3",
      "display_name": "Python 3"
    },
    "accelerator": "GPU"
  },
  "cells": [
    {
      "cell_type": "markdown",
      "metadata": {
        "id": "view-in-github",
        "colab_type": "text"
      },
      "source": [
        "<a href=\"https://colab.research.google.com/github/dishankkalra23/NumPy-Tutorial/blob/main/NumPy.ipynb\" target=\"_parent\"><img src=\"https://colab.research.google.com/assets/colab-badge.svg\" alt=\"Open In Colab\"/></a>"
      ]
    },
    {
      "cell_type": "markdown",
      "metadata": {
        "id": "Y7RYk3hyUops"
      },
      "source": [
        "**Why studying numPy array? \n",
        "Python-list vs numPy-array**"
      ]
    },
    {
      "cell_type": "markdown",
      "metadata": {
        "id": "JKgvwNicUzqY"
      },
      "source": [
        "1. List can have different data types while array have to store items of same data type.\n",
        "2. List supports less datatypes than numPy.\n",
        "3. numPy array is memory efficient and its speed is very fast because it is written in C\n",
        "\n",
        "\n"
      ]
    },
    {
      "cell_type": "markdown",
      "metadata": {
        "id": "G_JY6hiRWgIB"
      },
      "source": [
        "\n",
        "\n",
        "---"
      ]
    },
    {
      "cell_type": "markdown",
      "metadata": {
        "id": "RZ8lYSFwxxbD"
      },
      "source": [
        "Importing library"
      ]
    },
    {
      "cell_type": "code",
      "metadata": {
        "id": "1IMFAvi8w1PQ"
      },
      "source": [
        "import numpy as np\n",
        "import string # Used in later cells"
      ],
      "execution_count": 2,
      "outputs": []
    },
    {
      "cell_type": "markdown",
      "metadata": {
        "id": "TIzOKilZU5Xo"
      },
      "source": [
        "\n",
        "\n",
        "---\n"
      ]
    },
    {
      "cell_type": "markdown",
      "metadata": {
        "id": "UTRuIKOestiw"
      },
      "source": [
        "Creating a numpy array"
      ]
    },
    {
      "cell_type": "code",
      "metadata": {
        "id": "R0TRsQp0sbqK"
      },
      "source": [
        "x = np.array([1,2,3,4,5])"
      ],
      "execution_count": 4,
      "outputs": []
    },
    {
      "cell_type": "markdown",
      "metadata": {
        "id": "oHyBg3icX8Kj"
      },
      "source": [
        "\n",
        "\n",
        "---\n"
      ]
    },
    {
      "cell_type": "markdown",
      "metadata": {
        "id": "nFI9eDj8xsjz"
      },
      "source": [
        "type vs dtype \n",
        "* type: type of data structure like list,array,dictionary etc\n",
        "* dtype: data type of data structure "
      ]
    },
    {
      "cell_type": "code",
      "metadata": {
        "id": "YkYD-XO3w5Rw",
        "outputId": "375b6193-b52b-489b-a156-e6d027899bef",
        "colab": {
          "base_uri": "https://localhost:8080/"
        }
      },
      "source": [
        "print(type(x))\n",
        "x.dtype"
      ],
      "execution_count": 5,
      "outputs": [
        {
          "output_type": "stream",
          "text": [
            "<class 'numpy.ndarray'>\n"
          ],
          "name": "stdout"
        },
        {
          "output_type": "execute_result",
          "data": {
            "text/plain": [
              "dtype('int64')"
            ]
          },
          "metadata": {
            "tags": []
          },
          "execution_count": 5
        }
      ]
    },
    {
      "cell_type": "markdown",
      "metadata": {
        "id": "VQTHpLX1W6vL"
      },
      "source": [
        "\n",
        "\n",
        "---\n",
        "\n"
      ]
    },
    {
      "cell_type": "markdown",
      "metadata": {
        "id": "tKtjele05HFb"
      },
      "source": [
        "Creating an array with specific data type"
      ]
    },
    {
      "cell_type": "code",
      "metadata": {
        "id": "VCehhf475M8V",
        "outputId": "d222fc64-4fbd-4c6a-a8ef-680123437c8a",
        "colab": {
          "base_uri": "https://localhost:8080/"
        }
      },
      "source": [
        "z = np.array([10,20,32],dtype ='f')\n",
        "print(z)"
      ],
      "execution_count": 6,
      "outputs": [
        {
          "output_type": "stream",
          "text": [
            "[10. 20. 32.]\n"
          ],
          "name": "stdout"
        }
      ]
    },
    {
      "cell_type": "markdown",
      "metadata": {
        "id": "Kc2QZVLSW9VU"
      },
      "source": [
        "\n",
        "\n",
        "---\n",
        "\n",
        "\n"
      ]
    },
    {
      "cell_type": "markdown",
      "metadata": {
        "id": "haiBEOIb2Rwt"
      },
      "source": [
        "Rank of array: for example (x is 1/ 1d array)"
      ]
    },
    {
      "cell_type": "code",
      "metadata": {
        "id": "Rw7-62Ik2b59"
      },
      "source": [
        "# 1D array:\n",
        "[1,2,3,4,5]\n",
        "\n",
        "# 2D array:\n",
        "[[1,2,3],[4,5,6]]\n",
        "\n",
        "# 3d array:\n",
        "[[[1,2,3],[4,5,6]]]"
      ],
      "execution_count": null,
      "outputs": []
    },
    {
      "cell_type": "markdown",
      "metadata": {
        "id": "dDJ8Ym3ZW_Wx"
      },
      "source": [
        "\n",
        "\n",
        "---\n",
        "\n"
      ]
    },
    {
      "cell_type": "markdown",
      "metadata": {
        "id": "o_uxbYWJy0-B"
      },
      "source": [
        "1.   Shape: (number of rows,number of columns)\n",
        "2.   Size: No. of rows * No. of columns"
      ]
    },
    {
      "cell_type": "code",
      "metadata": {
        "id": "pmT0K1bCyu43",
        "outputId": "0d599690-9b55-4dee-e085-a1a8286e4c8e",
        "colab": {
          "base_uri": "https://localhost:8080/"
        }
      },
      "source": [
        "y = np.array([[1,2,5],[3,4,5]])\n",
        "\n",
        "print(\"Shape/Dimension:\",y.shape)\n",
        "print(\"Size: \",y.size)"
      ],
      "execution_count": 8,
      "outputs": [
        {
          "output_type": "stream",
          "text": [
            "Shape/Dimension: (2, 3)\n",
            "Size:  6\n"
          ],
          "name": "stdout"
        }
      ]
    },
    {
      "cell_type": "markdown",
      "metadata": {
        "id": "kVZPOdb2YJ66"
      },
      "source": [
        "3.   type\n",
        "4.   dtype\n",
        "\n"
      ]
    },
    {
      "cell_type": "code",
      "metadata": {
        "id": "hfwafDbKXcky",
        "outputId": "b59ae4ca-e8cd-41ad-f4ce-f2395961dda2",
        "colab": {
          "base_uri": "https://localhost:8080/"
        }
      },
      "source": [
        "print(\"Type of data structure:\",type(y))\n",
        "print(\"Data type of array:\",y.dtype)"
      ],
      "execution_count": 9,
      "outputs": [
        {
          "output_type": "stream",
          "text": [
            "Type of data structure: <class 'numpy.ndarray'>\n",
            "Data type of array: int64\n"
          ],
          "name": "stdout"
        }
      ]
    },
    {
      "cell_type": "markdown",
      "metadata": {
        "id": "chj_Yf7jYeUl"
      },
      "source": [
        "\n",
        "\n",
        "---\n",
        "\n",
        "\n"
      ]
    },
    {
      "cell_type": "markdown",
      "metadata": {
        "id": "FwOpqW_L1xXZ"
      },
      "source": [
        "Saving numpy array in a file and loading it when it is needed"
      ]
    },
    {
      "cell_type": "code",
      "metadata": {
        "id": "0MIpz_QO1iZB",
        "outputId": "ce975092-7c39-458f-91a8-167df41810ae",
        "colab": {
          "base_uri": "https://localhost:8080/"
        }
      },
      "source": [
        "arr_name = [1,2,3,4,5]\n",
        "np.save('file_name',arr_name)\n",
        "\n",
        "new_arr = np.load('file_name.npy')\n",
        "print(\"Saved array:\",new_arr)"
      ],
      "execution_count": null,
      "outputs": [
        {
          "output_type": "stream",
          "text": [
            "Saved array: [1 2 3 4 5]\n"
          ],
          "name": "stdout"
        }
      ]
    },
    {
      "cell_type": "markdown",
      "metadata": {
        "id": "6S1CUUkTYieG"
      },
      "source": [
        "\n",
        "\n",
        "---\n",
        "\n",
        "\n"
      ]
    },
    {
      "cell_type": "markdown",
      "metadata": {
        "id": "N0YviaI032eJ"
      },
      "source": [
        "Upcasting in numpy: If the array contains elements of different data types and then changing data type to largest data type automatically in numpy.\n",
        "Upcast: integer --> float"
      ]
    },
    {
      "cell_type": "code",
      "metadata": {
        "id": "HfGf8tj-4JTb",
        "outputId": "a6861e58-3af1-4c87-e7af-2c3cc5f0ab4b",
        "colab": {
          "base_uri": "https://localhost:8080/"
        }
      },
      "source": [
        "a = np.array([1.2,3.4,4,5,6])\n",
        "print(a)"
      ],
      "execution_count": null,
      "outputs": [
        {
          "output_type": "stream",
          "text": [
            "[1.2 3.4 4.  5.  6. ]\n"
          ],
          "name": "stdout"
        }
      ]
    },
    {
      "cell_type": "markdown",
      "metadata": {
        "id": "H9LbsUGRY2Mu"
      },
      "source": [
        "\n",
        "\n",
        "---\n",
        "\n"
      ]
    },
    {
      "cell_type": "markdown",
      "metadata": {
        "id": "dv9qsRlVr_Vp"
      },
      "source": [
        "Numpy array of lowercase alphabets and finding datatye, type, shape and size of array"
      ]
    },
    {
      "cell_type": "code",
      "metadata": {
        "id": "POjAuAVj4TNf",
        "outputId": "bcf86b4e-a854-4a87-e6cf-716413be4506",
        "colab": {
          "base_uri": "https://localhost:8080/"
        }
      },
      "source": [
        "# import string\n",
        "list_alphabet = list(string.ascii_lowercase)\n",
        "alpha = np.array(list_alphabet)\n",
        "\n",
        "print(alpha)\n",
        "print(alpha.dtype)\n",
        "print(type(alpha))\n",
        "print(alpha.shape)\n",
        "print(alpha.size)"
      ],
      "execution_count": 10,
      "outputs": [
        {
          "output_type": "stream",
          "text": [
            "['a' 'b' 'c' 'd' 'e' 'f' 'g' 'h' 'i' 'j' 'k' 'l' 'm' 'n' 'o' 'p' 'q' 'r'\n",
            " 's' 't' 'u' 'v' 'w' 'x' 'y' 'z']\n",
            "<U1\n",
            "<class 'numpy.ndarray'>\n",
            "(26,)\n",
            "26\n"
          ],
          "name": "stdout"
        }
      ]
    },
    {
      "cell_type": "markdown",
      "metadata": {
        "id": "73EwO35UZeFv"
      },
      "source": [
        "\n",
        "\n",
        "---\n",
        "\n"
      ]
    },
    {
      "cell_type": "markdown",
      "metadata": {
        "id": "QYx1MsCi9D0b"
      },
      "source": [
        "arange: It creates an instance of ndarray with evenly spaced values and returns the reference to it."
      ]
    },
    {
      "cell_type": "code",
      "metadata": {
        "id": "Hz_IdXWqv4MG",
        "outputId": "1c0f7bc4-4a3b-4c5d-ab51-4e13ea4a3903",
        "colab": {
          "base_uri": "https://localhost:8080/"
        }
      },
      "source": [
        "x = np.arange(1,26)\n",
        "x"
      ],
      "execution_count": 21,
      "outputs": [
        {
          "output_type": "execute_result",
          "data": {
            "text/plain": [
              "array([ 1,  2,  3,  4,  5,  6,  7,  8,  9, 10, 11, 12, 13, 14, 15, 16, 17,\n",
              "       18, 19, 20, 21, 22, 23, 24, 25])"
            ]
          },
          "metadata": {
            "tags": []
          },
          "execution_count": 21
        }
      ]
    },
    {
      "cell_type": "markdown",
      "metadata": {
        "id": "3nnb97r7-mow"
      },
      "source": [
        "reshape: Gives a new shape to an array without changing its data."
      ]
    },
    {
      "cell_type": "code",
      "metadata": {
        "id": "xm8joPRm9Iom",
        "outputId": "64dbebfb-69b6-4263-9a1b-79128a61c52c",
        "colab": {
          "base_uri": "https://localhost:8080/"
        }
      },
      "source": [
        "x.reshape(5,5)"
      ],
      "execution_count": 22,
      "outputs": [
        {
          "output_type": "execute_result",
          "data": {
            "text/plain": [
              "array([[ 1,  2,  3,  4,  5],\n",
              "       [ 6,  7,  8,  9, 10],\n",
              "       [11, 12, 13, 14, 15],\n",
              "       [16, 17, 18, 19, 20],\n",
              "       [21, 22, 23, 24, 25]])"
            ]
          },
          "metadata": {
            "tags": []
          },
          "execution_count": 22
        }
      ]
    },
    {
      "cell_type": "markdown",
      "metadata": {
        "id": "gc5SKv-7a-gv"
      },
      "source": [
        "Boolean Indexing: Selecting values from array when we dont know the exact indices of values"
      ]
    },
    {
      "cell_type": "code",
      "metadata": {
        "id": "a_2khg9AfdTO",
        "outputId": "8d3a0f8e-96f8-4c32-c7ff-cddf1e52c001",
        "colab": {
          "base_uri": "https://localhost:8080/"
        }
      },
      "source": [
        "new_arr1 = x\n",
        "new_arr1[(new_arr1 > 20)]"
      ],
      "execution_count": 26,
      "outputs": [
        {
          "output_type": "execute_result",
          "data": {
            "text/plain": [
              "array([21, 22, 23, 24, 25])"
            ]
          },
          "metadata": {
            "tags": []
          },
          "execution_count": 26
        }
      ]
    },
    {
      "cell_type": "code",
      "metadata": {
        "id": "T3a3xXsDbsyD",
        "outputId": "72e60854-0957-4291-d0ef-c4d567858af5",
        "colab": {
          "base_uri": "https://localhost:8080/"
        }
      },
      "source": [
        "new_arr1[(new_arr1 > 5) & (new_arr1 < 11)]"
      ],
      "execution_count": 27,
      "outputs": [
        {
          "output_type": "execute_result",
          "data": {
            "text/plain": [
              "array([ 6,  7,  8,  9, 10])"
            ]
          },
          "metadata": {
            "tags": []
          },
          "execution_count": 27
        }
      ]
    },
    {
      "cell_type": "markdown",
      "metadata": {
        "id": "tSPggdK6bRKh"
      },
      "source": [
        "Accessing odd values using boolean indexing and changing their value to -100\n"
      ]
    },
    {
      "cell_type": "code",
      "metadata": {
        "id": "BpNAUXmmtjdB",
        "outputId": "6ee31351-4715-4f41-d1b1-dd061bbc2890",
        "colab": {
          "base_uri": "https://localhost:8080/"
        }
      },
      "source": [
        "x[x%2!=0] = -100\n",
        "x"
      ],
      "execution_count": 28,
      "outputs": [
        {
          "output_type": "execute_result",
          "data": {
            "text/plain": [
              "array([-100,    2, -100,    4, -100,    6, -100,    8, -100,   10, -100,\n",
              "         12, -100,   14, -100,   16, -100,   18, -100,   20, -100,   22,\n",
              "       -100,   24, -100])"
            ]
          },
          "metadata": {
            "tags": []
          },
          "execution_count": 28
        }
      ]
    },
    {
      "cell_type": "markdown",
      "metadata": {
        "id": "fjXNzGwX_N58"
      },
      "source": [
        "random: Random values in a given shape."
      ]
    },
    {
      "cell_type": "code",
      "metadata": {
        "id": "SKghhc_q50Ih",
        "outputId": "92b71ba4-0db8-4df8-f9f8-e1599a60659c",
        "colab": {
          "base_uri": "https://localhost:8080/"
        }
      },
      "source": [
        "np.random.randint(1,10,size = (5,5))"
      ],
      "execution_count": null,
      "outputs": [
        {
          "output_type": "execute_result",
          "data": {
            "text/plain": [
              "array([[3, 9, 3, 8, 9],\n",
              "       [1, 5, 7, 6, 5],\n",
              "       [5, 9, 8, 9, 1],\n",
              "       [5, 3, 9, 7, 6],\n",
              "       [3, 9, 6, 5, 7]])"
            ]
          },
          "metadata": {
            "tags": []
          },
          "execution_count": 21
        }
      ]
    },
    {
      "cell_type": "code",
      "metadata": {
        "id": "eUOoCZuv7K1V",
        "outputId": "c3cff72e-23a7-4745-ae66-1281f8ade41a",
        "colab": {
          "base_uri": "https://localhost:8080/",
          "height": 85
        }
      },
      "source": [
        "x = np.ones((4,4))*np.array([1,2,3,4]).reshape(1,4)\n",
        "x"
      ],
      "execution_count": null,
      "outputs": [
        {
          "output_type": "execute_result",
          "data": {
            "text/plain": [
              "array([[1., 2., 3., 4.],\n",
              "       [1., 2., 3., 4.],\n",
              "       [1., 2., 3., 4.],\n",
              "       [1., 2., 3., 4.]])"
            ]
          },
          "metadata": {
            "tags": []
          },
          "execution_count": 138
        }
      ]
    }
  ]
}