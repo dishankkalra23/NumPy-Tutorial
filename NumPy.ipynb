{
  "nbformat": 4,
  "nbformat_minor": 0,
  "metadata": {
    "colab": {
      "name": "NumPy.ipynb",
      "provenance": [],
      "collapsed_sections": [],
      "toc_visible": true,
      "authorship_tag": "ABX9TyNsFmBgDkVnbow+z4+EfoDC",
      "include_colab_link": true
    },
    "kernelspec": {
      "name": "python3",
      "display_name": "Python 3"
    },
    "accelerator": "GPU"
  },
  "cells": [
    {
      "cell_type": "markdown",
      "metadata": {
        "id": "view-in-github",
        "colab_type": "text"
      },
      "source": [
        "<a href=\"https://colab.research.google.com/github/dishankkalra23/NumPy-Tutorial/blob/main/NumPy.ipynb\" target=\"_parent\"><img src=\"https://colab.research.google.com/assets/colab-badge.svg\" alt=\"Open In Colab\"/></a>"
      ]
    },
    {
      "cell_type": "markdown",
      "metadata": {
        "id": "Y7RYk3hyUops"
      },
      "source": [
        "**Why studying numPy array? \n",
        "Python-list vs numPy-array**"
      ]
    },
    {
      "cell_type": "markdown",
      "metadata": {
        "id": "JKgvwNicUzqY"
      },
      "source": [
        "1. List can have different data types while array have to store items of same data type.\n",
        "2. List supports less datatypes than numPy.\n",
        "3. numPy array is memory efficient and its speed is very fast because it is written in C\n",
        "\n",
        "\n"
      ]
    },
    {
      "cell_type": "markdown",
      "metadata": {
        "id": "G_JY6hiRWgIB"
      },
      "source": [
        "\n",
        "\n",
        "---"
      ]
    },
    {
      "cell_type": "markdown",
      "metadata": {
        "id": "RZ8lYSFwxxbD"
      },
      "source": [
        "Importing library"
      ]
    },
    {
      "cell_type": "code",
      "metadata": {
        "id": "1IMFAvi8w1PQ"
      },
      "source": [
        "import numpy as np\n",
        "import string # Used in later cells"
      ],
      "execution_count": 1,
      "outputs": []
    },
    {
      "cell_type": "markdown",
      "metadata": {
        "id": "TIzOKilZU5Xo"
      },
      "source": [
        "\n",
        "\n",
        "---\n"
      ]
    },
    {
      "cell_type": "markdown",
      "metadata": {
        "id": "UTRuIKOestiw"
      },
      "source": [
        "Creating a numpy array"
      ]
    },
    {
      "cell_type": "code",
      "metadata": {
        "id": "R0TRsQp0sbqK"
      },
      "source": [
        "x = np.array([1,2,3,4,5])"
      ],
      "execution_count": null,
      "outputs": []
    },
    {
      "cell_type": "markdown",
      "metadata": {
        "id": "oHyBg3icX8Kj"
      },
      "source": [
        "\n",
        "\n",
        "---\n"
      ]
    },
    {
      "cell_type": "markdown",
      "metadata": {
        "id": "nFI9eDj8xsjz"
      },
      "source": [
        "type vs dtype \n",
        "* type: type of data structure like list,array,dictionary etc\n",
        "* dtype: data type of data structure "
      ]
    },
    {
      "cell_type": "code",
      "metadata": {
        "id": "YkYD-XO3w5Rw",
        "outputId": "375b6193-b52b-489b-a156-e6d027899bef",
        "colab": {
          "base_uri": "https://localhost:8080/"
        }
      },
      "source": [
        "print(type(x))\n",
        "x.dtype"
      ],
      "execution_count": null,
      "outputs": [
        {
          "output_type": "stream",
          "text": [
            "<class 'numpy.ndarray'>\n"
          ],
          "name": "stdout"
        },
        {
          "output_type": "execute_result",
          "data": {
            "text/plain": [
              "dtype('int64')"
            ]
          },
          "metadata": {
            "tags": []
          },
          "execution_count": 5
        }
      ]
    },
    {
      "cell_type": "markdown",
      "metadata": {
        "id": "VQTHpLX1W6vL"
      },
      "source": [
        "\n",
        "\n",
        "---\n",
        "\n"
      ]
    },
    {
      "cell_type": "markdown",
      "metadata": {
        "id": "tKtjele05HFb"
      },
      "source": [
        "Creating an array with specific data type"
      ]
    },
    {
      "cell_type": "code",
      "metadata": {
        "id": "VCehhf475M8V",
        "outputId": "d222fc64-4fbd-4c6a-a8ef-680123437c8a",
        "colab": {
          "base_uri": "https://localhost:8080/"
        }
      },
      "source": [
        "z = np.array([10,20,32],dtype ='f')\n",
        "print(z)"
      ],
      "execution_count": null,
      "outputs": [
        {
          "output_type": "stream",
          "text": [
            "[10. 20. 32.]\n"
          ],
          "name": "stdout"
        }
      ]
    },
    {
      "cell_type": "markdown",
      "metadata": {
        "id": "Kc2QZVLSW9VU"
      },
      "source": [
        "\n",
        "\n",
        "---\n",
        "\n",
        "\n"
      ]
    },
    {
      "cell_type": "markdown",
      "metadata": {
        "id": "haiBEOIb2Rwt"
      },
      "source": [
        "Rank of array"
      ]
    },
    {
      "cell_type": "code",
      "metadata": {
        "id": "Rw7-62Ik2b59"
      },
      "source": [
        "# 1D array:\n",
        "[1,2,3,4,5]\n",
        "\n",
        "# 2D array:\n",
        "[[1,2,3],[4,5,6]]\n",
        "\n",
        "# 3d array:\n",
        "[[[1,2,3],[4,5,6]]]"
      ],
      "execution_count": null,
      "outputs": []
    },
    {
      "cell_type": "markdown",
      "metadata": {
        "id": "dDJ8Ym3ZW_Wx"
      },
      "source": [
        "\n",
        "\n",
        "---\n",
        "\n"
      ]
    },
    {
      "cell_type": "markdown",
      "metadata": {
        "id": "o_uxbYWJy0-B"
      },
      "source": [
        "1.   Shape: (number of rows,number of columns)\n",
        "2.   Size: No. of rows * No. of columns"
      ]
    },
    {
      "cell_type": "code",
      "metadata": {
        "id": "pmT0K1bCyu43",
        "outputId": "0d599690-9b55-4dee-e085-a1a8286e4c8e",
        "colab": {
          "base_uri": "https://localhost:8080/"
        }
      },
      "source": [
        "y = np.array([[1,2,5],[3,4,5]])\n",
        "\n",
        "print(\"Shape/Dimension:\",y.shape)\n",
        "print(\"Size: \",y.size)"
      ],
      "execution_count": null,
      "outputs": [
        {
          "output_type": "stream",
          "text": [
            "Shape/Dimension: (2, 3)\n",
            "Size:  6\n"
          ],
          "name": "stdout"
        }
      ]
    },
    {
      "cell_type": "markdown",
      "metadata": {
        "id": "kVZPOdb2YJ66"
      },
      "source": [
        "3.   type\n",
        "4.   dtype\n",
        "\n"
      ]
    },
    {
      "cell_type": "code",
      "metadata": {
        "id": "hfwafDbKXcky",
        "outputId": "b59ae4ca-e8cd-41ad-f4ce-f2395961dda2",
        "colab": {
          "base_uri": "https://localhost:8080/"
        }
      },
      "source": [
        "print(\"Type of data structure:\",type(y))\n",
        "print(\"Data type of array:\",y.dtype)"
      ],
      "execution_count": null,
      "outputs": [
        {
          "output_type": "stream",
          "text": [
            "Type of data structure: <class 'numpy.ndarray'>\n",
            "Data type of array: int64\n"
          ],
          "name": "stdout"
        }
      ]
    },
    {
      "cell_type": "markdown",
      "metadata": {
        "id": "chj_Yf7jYeUl"
      },
      "source": [
        "\n",
        "\n",
        "---\n",
        "\n",
        "\n"
      ]
    },
    {
      "cell_type": "markdown",
      "metadata": {
        "id": "FwOpqW_L1xXZ"
      },
      "source": [
        "Saving numpy array in a file and loading it when it is needed"
      ]
    },
    {
      "cell_type": "code",
      "metadata": {
        "id": "0MIpz_QO1iZB",
        "outputId": "ce975092-7c39-458f-91a8-167df41810ae",
        "colab": {
          "base_uri": "https://localhost:8080/"
        }
      },
      "source": [
        "arr_name = [1,2,3,4,5]\n",
        "np.save('file_name',arr_name)\n",
        "\n",
        "new_arr = np.load('file_name.npy')\n",
        "print(\"Saved array:\",new_arr)"
      ],
      "execution_count": null,
      "outputs": [
        {
          "output_type": "stream",
          "text": [
            "Saved array: [1 2 3 4 5]\n"
          ],
          "name": "stdout"
        }
      ]
    },
    {
      "cell_type": "markdown",
      "metadata": {
        "id": "6S1CUUkTYieG"
      },
      "source": [
        "\n",
        "\n",
        "---\n",
        "\n",
        "\n"
      ]
    },
    {
      "cell_type": "markdown",
      "metadata": {
        "id": "N0YviaI032eJ"
      },
      "source": [
        "Upcasting in numpy: If the array contains elements of different datatypes then changing numPy automatically changes datatype to largest datatype in numpy."
      ]
    },
    {
      "cell_type": "markdown",
      "metadata": {
        "id": "jELzMPDIgxWm"
      },
      "source": [
        "**Upcast: integer --> float**"
      ]
    },
    {
      "cell_type": "code",
      "metadata": {
        "id": "HfGf8tj-4JTb",
        "outputId": "a6861e58-3af1-4c87-e7af-2c3cc5f0ab4b",
        "colab": {
          "base_uri": "https://localhost:8080/"
        }
      },
      "source": [
        "a = np.array([1.2,3.4,4,5,6])\n",
        "print(a)"
      ],
      "execution_count": null,
      "outputs": [
        {
          "output_type": "stream",
          "text": [
            "[1.2 3.4 4.  5.  6. ]\n"
          ],
          "name": "stdout"
        }
      ]
    },
    {
      "cell_type": "markdown",
      "metadata": {
        "id": "H9LbsUGRY2Mu"
      },
      "source": [
        "\n",
        "\n",
        "---\n",
        "\n"
      ]
    },
    {
      "cell_type": "markdown",
      "metadata": {
        "id": "dv9qsRlVr_Vp"
      },
      "source": [
        "Numpy array of lowercase alphabets and finding datatye, type, shape and size of array"
      ]
    },
    {
      "cell_type": "code",
      "metadata": {
        "id": "POjAuAVj4TNf",
        "outputId": "bcf86b4e-a854-4a87-e6cf-716413be4506",
        "colab": {
          "base_uri": "https://localhost:8080/"
        }
      },
      "source": [
        "# import string\n",
        "list_alphabet = list(string.ascii_lowercase)\n",
        "alpha = np.array(list_alphabet)\n",
        "\n",
        "print(alpha)\n",
        "print(alpha.dtype)\n",
        "print(type(alpha))\n",
        "print(alpha.shape)\n",
        "print(alpha.size)"
      ],
      "execution_count": null,
      "outputs": [
        {
          "output_type": "stream",
          "text": [
            "['a' 'b' 'c' 'd' 'e' 'f' 'g' 'h' 'i' 'j' 'k' 'l' 'm' 'n' 'o' 'p' 'q' 'r'\n",
            " 's' 't' 'u' 'v' 'w' 'x' 'y' 'z']\n",
            "<U1\n",
            "<class 'numpy.ndarray'>\n",
            "(26,)\n",
            "26\n"
          ],
          "name": "stdout"
        }
      ]
    },
    {
      "cell_type": "markdown",
      "metadata": {
        "id": "73EwO35UZeFv"
      },
      "source": [
        "\n",
        "\n",
        "---\n",
        "\n"
      ]
    },
    {
      "cell_type": "markdown",
      "metadata": {
        "id": "yTXJomv-hUzN"
      },
      "source": [
        "**Creating array using built-in functions**"
      ]
    },
    {
      "cell_type": "markdown",
      "metadata": {
        "id": "9y6YfkhIhcT3"
      },
      "source": [
        "full: Return a new array of given shape and type, filled with fill_value\n",
        "\n",
        "\n",
        "*   full: np.full((3,2),fill_value)\n",
        "\n"
      ]
    },
    {
      "cell_type": "code",
      "metadata": {
        "id": "ZgM8lR7xhLaG",
        "outputId": "4dd4503d-8200-4be1-c74d-acc2c3d72068",
        "colab": {
          "base_uri": "https://localhost:8080/"
        }
      },
      "source": [
        "np.full((3,2),500)"
      ],
      "execution_count": null,
      "outputs": [
        {
          "output_type": "execute_result",
          "data": {
            "text/plain": [
              "array([[500, 500],\n",
              "       [500, 500],\n",
              "       [500, 500]])"
            ]
          },
          "metadata": {
            "tags": []
          },
          "execution_count": 29
        }
      ]
    },
    {
      "cell_type": "code",
      "metadata": {
        "id": "z9kH9R9thzoy",
        "outputId": "52456ec7-b71f-4aac-e305-8c89c296c50b",
        "colab": {
          "base_uri": "https://localhost:8080/"
        }
      },
      "source": [
        "np.full((1,3),'hello')"
      ],
      "execution_count": null,
      "outputs": [
        {
          "output_type": "execute_result",
          "data": {
            "text/plain": [
              "array([['hello', 'hello', 'hello']], dtype='<U5')"
            ]
          },
          "metadata": {
            "tags": []
          },
          "execution_count": 30
        }
      ]
    },
    {
      "cell_type": "markdown",
      "metadata": {
        "id": "1laAF4Nnh6G2"
      },
      "source": [
        "\n",
        "\n",
        "---\n",
        "\n"
      ]
    },
    {
      "cell_type": "markdown",
      "metadata": {
        "id": "hHmaa1CJiAv_"
      },
      "source": [
        "zeros: Return a new array of given shape and type, filled with zeros.\n",
        "\n",
        "*  np.zeros((shape_of_array))\n",
        "\n",
        "\n"
      ]
    },
    {
      "cell_type": "code",
      "metadata": {
        "id": "tWbDA564h-5N",
        "outputId": "b3294eae-a68f-451c-ae2e-f48036b8d388",
        "colab": {
          "base_uri": "https://localhost:8080/"
        }
      },
      "source": [
        "np.zeros((2,2))"
      ],
      "execution_count": null,
      "outputs": [
        {
          "output_type": "execute_result",
          "data": {
            "text/plain": [
              "array([[0., 0.],\n",
              "       [0., 0.]])"
            ]
          },
          "metadata": {
            "tags": []
          },
          "execution_count": 31
        }
      ]
    },
    {
      "cell_type": "code",
      "metadata": {
        "id": "CmUUeEQBiPZ0",
        "outputId": "1d7785d6-983d-430f-a869-0a3bf5361f09",
        "colab": {
          "base_uri": "https://localhost:8080/"
        }
      },
      "source": [
        "np.zeros((2,2),dtype='int32')"
      ],
      "execution_count": null,
      "outputs": [
        {
          "output_type": "execute_result",
          "data": {
            "text/plain": [
              "array([[0, 0],\n",
              "       [0, 0]], dtype=int32)"
            ]
          },
          "metadata": {
            "tags": []
          },
          "execution_count": 32
        }
      ]
    },
    {
      "cell_type": "markdown",
      "metadata": {
        "id": "c1fdsityi2T2"
      },
      "source": [
        "\n",
        "\n",
        "---\n",
        "\n"
      ]
    },
    {
      "cell_type": "markdown",
      "metadata": {
        "id": "oxhQ1mztiMK9"
      },
      "source": [
        "ones: Return a new array of given shape and type, filled with ones\n",
        "\n",
        "*  np.ones((shape_of_array))\n",
        "\n"
      ]
    },
    {
      "cell_type": "code",
      "metadata": {
        "id": "rv1hnxahh_cl",
        "outputId": "368c0a15-2cac-4567-dbe8-7c46ada62661",
        "colab": {
          "base_uri": "https://localhost:8080/"
        }
      },
      "source": [
        "np.ones((2,1))"
      ],
      "execution_count": null,
      "outputs": [
        {
          "output_type": "execute_result",
          "data": {
            "text/plain": [
              "array([[1.],\n",
              "       [1.]])"
            ]
          },
          "metadata": {
            "tags": []
          },
          "execution_count": 33
        }
      ]
    },
    {
      "cell_type": "code",
      "metadata": {
        "id": "zRQ6809JicXb",
        "outputId": "b1a7f5cb-eddb-4adf-fdbe-4ae6015c9399",
        "colab": {
          "base_uri": "https://localhost:8080/"
        }
      },
      "source": [
        "np.ones((2,1),dtype = 'int32')"
      ],
      "execution_count": null,
      "outputs": [
        {
          "output_type": "execute_result",
          "data": {
            "text/plain": [
              "array([[1],\n",
              "       [1]], dtype=int32)"
            ]
          },
          "metadata": {
            "tags": []
          },
          "execution_count": 34
        }
      ]
    },
    {
      "cell_type": "markdown",
      "metadata": {
        "id": "FX3c1UZmi3--"
      },
      "source": [
        "\n",
        "\n",
        "---\n",
        "\n"
      ]
    },
    {
      "cell_type": "markdown",
      "metadata": {
        "id": "eqAsSrg5jHuL"
      },
      "source": [
        "eye: Return a 2-D array with ones on the diagonal and zeros elsewhere.\n",
        "\n",
        "*   np.eye(no_of_rows,no_of_columns)"
      ]
    },
    {
      "cell_type": "code",
      "metadata": {
        "id": "NlSAizzWh_3D",
        "outputId": "e954323b-9d27-4853-8bbd-858236bb70f6",
        "colab": {
          "base_uri": "https://localhost:8080/"
        }
      },
      "source": [
        "np.eye(3,3,dtype='int32')"
      ],
      "execution_count": null,
      "outputs": [
        {
          "output_type": "execute_result",
          "data": {
            "text/plain": [
              "array([[1, 0, 0],\n",
              "       [0, 1, 0],\n",
              "       [0, 0, 1]], dtype=int32)"
            ]
          },
          "metadata": {
            "tags": []
          },
          "execution_count": 38
        }
      ]
    },
    {
      "cell_type": "markdown",
      "metadata": {
        "id": "LeccE9i2jwYR"
      },
      "source": [
        "\n",
        "\n",
        "---\n",
        "\n"
      ]
    },
    {
      "cell_type": "markdown",
      "metadata": {
        "id": "mLPjSZWLjyDr"
      },
      "source": [
        "diag: Extract a diagonal or construct a diagonal array.\n",
        "\n",
        "*   np.diag(list_of_values_on_main_diagonal,0)\n",
        "\n",
        "\n"
      ]
    },
    {
      "cell_type": "code",
      "metadata": {
        "id": "hb37FFKSjzby",
        "outputId": "e73ea611-c5ad-4d82-8565-8e9b8db0699b",
        "colab": {
          "base_uri": "https://localhost:8080/"
        }
      },
      "source": [
        "np.diag([10,-1,20,-1],0)"
      ],
      "execution_count": null,
      "outputs": [
        {
          "output_type": "execute_result",
          "data": {
            "text/plain": [
              "array([[10,  0,  0,  0],\n",
              "       [ 0, -1,  0,  0],\n",
              "       [ 0,  0, 20,  0],\n",
              "       [ 0,  0,  0, -1]])"
            ]
          },
          "metadata": {
            "tags": []
          },
          "execution_count": 53
        }
      ]
    },
    {
      "cell_type": "markdown",
      "metadata": {
        "id": "nb9LD26WlrQe"
      },
      "source": [
        "\n",
        "\n",
        "---\n",
        "\n"
      ]
    },
    {
      "cell_type": "markdown",
      "metadata": {
        "id": "B4Ux3WIwk0Y4"
      },
      "source": [
        "*   np.diag( list_of_values_on_diagonal, diagonal_above_main_diagonal)\n",
        "\n",
        "\n"
      ]
    },
    {
      "cell_type": "code",
      "metadata": {
        "id": "xfCSDeCBj0Kl",
        "outputId": "3188c05c-b7cd-4239-d320-403d814a32c4",
        "colab": {
          "base_uri": "https://localhost:8080/"
        }
      },
      "source": [
        "np.diag([10,-1,20,-1],1)"
      ],
      "execution_count": null,
      "outputs": [
        {
          "output_type": "execute_result",
          "data": {
            "text/plain": [
              "array([[ 0, 10,  0,  0,  0],\n",
              "       [ 0,  0, -1,  0,  0],\n",
              "       [ 0,  0,  0, 20,  0],\n",
              "       [ 0,  0,  0,  0, -1],\n",
              "       [ 0,  0,  0,  0,  0]])"
            ]
          },
          "metadata": {
            "tags": []
          },
          "execution_count": 40
        }
      ]
    },
    {
      "cell_type": "code",
      "metadata": {
        "id": "W0arql4Ij0Zr",
        "outputId": "456e63c7-dd37-400a-aa47-e8e196f64d07",
        "colab": {
          "base_uri": "https://localhost:8080/"
        }
      },
      "source": [
        "np.diag([10,-1,20,-1],2)"
      ],
      "execution_count": null,
      "outputs": [
        {
          "output_type": "execute_result",
          "data": {
            "text/plain": [
              "array([[ 0,  0, 10,  0,  0,  0],\n",
              "       [ 0,  0,  0, -1,  0,  0],\n",
              "       [ 0,  0,  0,  0, 20,  0],\n",
              "       [ 0,  0,  0,  0,  0, -1],\n",
              "       [ 0,  0,  0,  0,  0,  0],\n",
              "       [ 0,  0,  0,  0,  0,  0]])"
            ]
          },
          "metadata": {
            "tags": []
          },
          "execution_count": 41
        }
      ]
    },
    {
      "cell_type": "markdown",
      "metadata": {
        "id": "9OIrOaZzlswY"
      },
      "source": [
        "\n",
        "\n",
        "---\n",
        "\n"
      ]
    },
    {
      "cell_type": "markdown",
      "metadata": {
        "id": "_ujiDCLClRXD"
      },
      "source": [
        " \n",
        "\n",
        "*   np.diag(  list_of_values_on_diagonal, diagonal_below_main_diagonal)\n",
        "\n",
        "\n"
      ]
    },
    {
      "cell_type": "code",
      "metadata": {
        "id": "kjxptjWrjz6E",
        "outputId": "eb73e3eb-5e26-4f56-f657-bd5e70c3ef0a",
        "colab": {
          "base_uri": "https://localhost:8080/"
        }
      },
      "source": [
        "np.diag([10,-1,20],-1)"
      ],
      "execution_count": null,
      "outputs": [
        {
          "output_type": "execute_result",
          "data": {
            "text/plain": [
              "array([[ 0,  0,  0,  0],\n",
              "       [10,  0,  0,  0],\n",
              "       [ 0, -1,  0,  0],\n",
              "       [ 0,  0, 20,  0]])"
            ]
          },
          "metadata": {
            "tags": []
          },
          "execution_count": 43
        }
      ]
    },
    {
      "cell_type": "code",
      "metadata": {
        "id": "2stWm7Kah_g3",
        "outputId": "200ea25d-d48f-4dd8-a0e1-3a1bc84e6c8c",
        "colab": {
          "base_uri": "https://localhost:8080/"
        }
      },
      "source": [
        "np.diag([10,-1,20],-2)"
      ],
      "execution_count": null,
      "outputs": [
        {
          "output_type": "execute_result",
          "data": {
            "text/plain": [
              "array([[ 0,  0,  0,  0,  0],\n",
              "       [ 0,  0,  0,  0,  0],\n",
              "       [10,  0,  0,  0,  0],\n",
              "       [ 0, -1,  0,  0,  0],\n",
              "       [ 0,  0, 20,  0,  0]])"
            ]
          },
          "metadata": {
            "tags": []
          },
          "execution_count": 44
        }
      ]
    },
    {
      "cell_type": "markdown",
      "metadata": {
        "id": "qn6-YMjumd03"
      },
      "source": [
        "\n",
        "\n",
        "---\n",
        "\n"
      ]
    },
    {
      "cell_type": "markdown",
      "metadata": {
        "id": "QYx1MsCi9D0b"
      },
      "source": [
        "arange: It creates an instance of ndarray with evenly spaced values and returns the reference to it."
      ]
    },
    {
      "cell_type": "markdown",
      "metadata": {
        "id": "p4idr6-CmqMG"
      },
      "source": [
        "*   arange: np.arange(start,stop,step) \n",
        "*   start is inclusive and stop is exclusive"
      ]
    },
    {
      "cell_type": "code",
      "metadata": {
        "id": "Hz_IdXWqv4MG",
        "outputId": "8cdb3f34-1c81-4b65-c97b-f7784ca3f8bd",
        "colab": {
          "base_uri": "https://localhost:8080/"
        }
      },
      "source": [
        "arr = np.arange(1,10)\n",
        "arr"
      ],
      "execution_count": null,
      "outputs": [
        {
          "output_type": "execute_result",
          "data": {
            "text/plain": [
              "array([1, 2, 3, 4, 5, 6, 7, 8, 9])"
            ]
          },
          "metadata": {
            "tags": []
          },
          "execution_count": 45
        }
      ]
    },
    {
      "cell_type": "code",
      "metadata": {
        "id": "vtQ_FjgNnkAK",
        "outputId": "965006e5-2b75-43a6-e9be-ce8c71d1c76b",
        "colab": {
          "base_uri": "https://localhost:8080/"
        }
      },
      "source": [
        "arr = arr = np.arange(1,10,2)\n",
        "arr"
      ],
      "execution_count": null,
      "outputs": [
        {
          "output_type": "execute_result",
          "data": {
            "text/plain": [
              "array([1, 3, 5, 7, 9])"
            ]
          },
          "metadata": {
            "tags": []
          },
          "execution_count": 46
        }
      ]
    },
    {
      "cell_type": "markdown",
      "metadata": {
        "id": "YfFCAzsTnrDr"
      },
      "source": [
        "\n",
        "\n",
        "---\n",
        "\n"
      ]
    },
    {
      "cell_type": "markdown",
      "metadata": {
        "id": "rpfR9Ed8nhW5"
      },
      "source": [
        "linspace:Return evenly spaced numbers over a specified interval.\n",
        "\n",
        "*   np.linspace(): np.linspace(start, stop, num=50, endpoint=True)\n",
        "*   endpoint: Including end value\n",
        "\n"
      ]
    },
    {
      "cell_type": "code",
      "metadata": {
        "id": "kBkdccoqn9yy",
        "outputId": "5e48df2e-ced8-4d25-d4ea-b0c7333692d6",
        "colab": {
          "base_uri": "https://localhost:8080/"
        }
      },
      "source": [
        "np.linspace(5,50,10)"
      ],
      "execution_count": null,
      "outputs": [
        {
          "output_type": "execute_result",
          "data": {
            "text/plain": [
              "array([ 5., 10., 15., 20., 25., 30., 35., 40., 45., 50.])"
            ]
          },
          "metadata": {
            "tags": []
          },
          "execution_count": 47
        }
      ]
    },
    {
      "cell_type": "code",
      "metadata": {
        "id": "F2nxORwwn-kA",
        "outputId": "365705da-badd-4b05-bead-28edd5b454dc",
        "colab": {
          "base_uri": "https://localhost:8080/"
        }
      },
      "source": [
        "np.linspace(5,50,10,endpoint=False)"
      ],
      "execution_count": null,
      "outputs": [
        {
          "output_type": "execute_result",
          "data": {
            "text/plain": [
              "array([ 5. ,  9.5, 14. , 18.5, 23. , 27.5, 32. , 36.5, 41. , 45.5])"
            ]
          },
          "metadata": {
            "tags": []
          },
          "execution_count": 48
        }
      ]
    },
    {
      "cell_type": "markdown",
      "metadata": {
        "id": "g0EJ6KDSosOh"
      },
      "source": [
        "\n",
        "\n",
        "---\n",
        "\n"
      ]
    },
    {
      "cell_type": "markdown",
      "metadata": {
        "id": "3sqmgrh4pB23"
      },
      "source": [
        "random.random: Return random floats in the half-open interval [0.0, 1.0)\n",
        "\n",
        "*   np.random.random(shape)\n"
      ]
    },
    {
      "cell_type": "code",
      "metadata": {
        "id": "p9E9E9HTn-ZF",
        "outputId": "939a6ca5-594c-456d-dece-3a32d61091a6",
        "colab": {
          "base_uri": "https://localhost:8080/"
        }
      },
      "source": [
        "np.random.random((3,2))"
      ],
      "execution_count": null,
      "outputs": [
        {
          "output_type": "execute_result",
          "data": {
            "text/plain": [
              "array([[0.32372433, 0.76357451],\n",
              "       [0.4477029 , 0.94274949],\n",
              "       [0.69158957, 0.52201261]])"
            ]
          },
          "metadata": {
            "tags": []
          },
          "execution_count": 52
        }
      ]
    },
    {
      "cell_type": "code",
      "metadata": {
        "id": "xZ8oZdcGn2PH",
        "outputId": "5eec23b4-0e70-401a-c9fa-c907dbd90f9d",
        "colab": {
          "base_uri": "https://localhost:8080/"
        }
      },
      "source": [
        "np.random.randint(-10,15)"
      ],
      "execution_count": null,
      "outputs": [
        {
          "output_type": "execute_result",
          "data": {
            "text/plain": [
              "7"
            ]
          },
          "metadata": {
            "tags": []
          },
          "execution_count": 11
        }
      ]
    },
    {
      "cell_type": "code",
      "metadata": {
        "id": "hex8HmGyqWve",
        "outputId": "c89d2add-8c03-4c1e-df3e-1d8083741f6b",
        "colab": {
          "base_uri": "https://localhost:8080/"
        }
      },
      "source": [
        "np.random.normal(15, 25, (5,3))"
      ],
      "execution_count": null,
      "outputs": [
        {
          "output_type": "execute_result",
          "data": {
            "text/plain": [
              "array([[ 22.04843455,  49.93344179,  15.84687413],\n",
              "       [ 24.83829961,  13.97254251,  18.62530335],\n",
              "       [  2.41594454,  52.97257162, -26.39507302],\n",
              "       [ 33.66652382, -19.36906639, -21.90581423],\n",
              "       [-23.1222272 ,  18.1077159 ,  -0.59926916]])"
            ]
          },
          "metadata": {
            "tags": []
          },
          "execution_count": 18
        }
      ]
    },
    {
      "cell_type": "markdown",
      "metadata": {
        "id": "0dtEWvi9hI60"
      },
      "source": [
        "\n",
        "\n",
        "---\n",
        "\n"
      ]
    },
    {
      "cell_type": "markdown",
      "metadata": {
        "id": "5s5AoD7F0hPB"
      },
      "source": [
        "Accessing 2D Array"
      ]
    },
    {
      "cell_type": "code",
      "metadata": {
        "id": "4-ChvjAI0fO6",
        "outputId": "c6c7c0e0-5f41-4475-ec55-7e25f9bc8f7e",
        "colab": {
          "base_uri": "https://localhost:8080/"
        }
      },
      "source": [
        "arr = np.random.random((5,5))\n",
        "arr"
      ],
      "execution_count": 7,
      "outputs": [
        {
          "output_type": "execute_result",
          "data": {
            "text/plain": [
              "array([[0.44649599, 0.87894742, 0.86591216, 0.81803789, 0.97920886],\n",
              "       [0.75411314, 0.39501731, 0.02586783, 0.76142176, 0.11692677],\n",
              "       [0.54809662, 0.51407417, 0.9417222 , 0.69550152, 0.78716192],\n",
              "       [0.90460284, 0.14442124, 0.358826  , 0.915857  , 0.60595156],\n",
              "       [0.50660711, 0.64182904, 0.10736399, 0.44566856, 0.25795161]])"
            ]
          },
          "metadata": {
            "tags": []
          },
          "execution_count": 7
        }
      ]
    },
    {
      "cell_type": "code",
      "metadata": {
        "id": "NYg8y2hD2Lxw",
        "outputId": "cb960c1b-3b1f-4f1c-8ecb-14a5f263e7f1",
        "colab": {
          "base_uri": "https://localhost:8080/"
        }
      },
      "source": [
        "arr[0][0]"
      ],
      "execution_count": 8,
      "outputs": [
        {
          "output_type": "execute_result",
          "data": {
            "text/plain": [
              "0.4464959949362295"
            ]
          },
          "metadata": {
            "tags": []
          },
          "execution_count": 8
        }
      ]
    },
    {
      "cell_type": "code",
      "metadata": {
        "id": "c_Y06c_02Nu0",
        "outputId": "8be35fde-c720-4eec-b54b-7267abaeac42",
        "colab": {
          "base_uri": "https://localhost:8080/"
        }
      },
      "source": [
        "arr[0,0]"
      ],
      "execution_count": 9,
      "outputs": [
        {
          "output_type": "execute_result",
          "data": {
            "text/plain": [
              "0.4464959949362295"
            ]
          },
          "metadata": {
            "tags": []
          },
          "execution_count": 9
        }
      ]
    },
    {
      "cell_type": "markdown",
      "metadata": {
        "id": "l51DFeo42QXF"
      },
      "source": [
        "\n",
        "\n",
        "---\n",
        "\n"
      ]
    },
    {
      "cell_type": "markdown",
      "metadata": {
        "id": "gc5SKv-7a-gv"
      },
      "source": [
        "**Boolean Indexing**: Selecting values from array when we dont know the exact indices of values"
      ]
    },
    {
      "cell_type": "code",
      "metadata": {
        "id": "a_2khg9AfdTO",
        "outputId": "8d3a0f8e-96f8-4c32-c7ff-cddf1e52c001",
        "colab": {
          "base_uri": "https://localhost:8080/"
        }
      },
      "source": [
        "new_arr1 = x\n",
        "new_arr1[(new_arr1 > 20)]"
      ],
      "execution_count": null,
      "outputs": [
        {
          "output_type": "execute_result",
          "data": {
            "text/plain": [
              "array([21, 22, 23, 24, 25])"
            ]
          },
          "metadata": {
            "tags": []
          },
          "execution_count": 26
        }
      ]
    },
    {
      "cell_type": "code",
      "metadata": {
        "id": "T3a3xXsDbsyD",
        "outputId": "72e60854-0957-4291-d0ef-c4d567858af5",
        "colab": {
          "base_uri": "https://localhost:8080/"
        }
      },
      "source": [
        "new_arr1[(new_arr1 > 5) & (new_arr1 < 11)]"
      ],
      "execution_count": null,
      "outputs": [
        {
          "output_type": "execute_result",
          "data": {
            "text/plain": [
              "array([ 6,  7,  8,  9, 10])"
            ]
          },
          "metadata": {
            "tags": []
          },
          "execution_count": 27
        }
      ]
    },
    {
      "cell_type": "markdown",
      "metadata": {
        "id": "tSPggdK6bRKh"
      },
      "source": [
        "Accessing odd values using boolean indexing and changing their value to -100\n"
      ]
    },
    {
      "cell_type": "code",
      "metadata": {
        "id": "BpNAUXmmtjdB",
        "outputId": "6ee31351-4715-4f41-d1b1-dd061bbc2890",
        "colab": {
          "base_uri": "https://localhost:8080/"
        }
      },
      "source": [
        "x[x%2!=0] = -100\n",
        "x"
      ],
      "execution_count": null,
      "outputs": [
        {
          "output_type": "execute_result",
          "data": {
            "text/plain": [
              "array([-100,    2, -100,    4, -100,    6, -100,    8, -100,   10, -100,\n",
              "         12, -100,   14, -100,   16, -100,   18, -100,   20, -100,   22,\n",
              "       -100,   24, -100])"
            ]
          },
          "metadata": {
            "tags": []
          },
          "execution_count": 28
        }
      ]
    },
    {
      "cell_type": "code",
      "metadata": {
        "id": "iXZSrkWs0Y-E"
      },
      "source": [
        ""
      ],
      "execution_count": null,
      "outputs": []
    }
  ]
}